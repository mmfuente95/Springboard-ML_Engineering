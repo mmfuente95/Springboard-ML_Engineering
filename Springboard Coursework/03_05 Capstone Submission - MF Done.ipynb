{
 "cells": [
  {
   "cell_type": "markdown",
   "metadata": {},
   "source": [
    "# 3.5 Capstone Submission"
   ]
  },
  {
   "cell_type": "markdown",
   "metadata": {},
   "source": [
    "The three large databases that I explored were the following:\n",
    "- Fresh and Rotten fruit pictures database for rotten fruit predictive model - https://www.kaggle.com/sriramr/fruits-fresh-and-rotten-for-classification (this dataset weighs close to ~4GB because they are high resolutions pictures so I could not upload it to GitHub without incurring substantial costs)\n",
    "\n",
    "- IMDB movie reviews for sentiment analysis on movie reviews - https://www.kaggle.com/lakshmi25npathi/sentiment-analysis-of-imdb-movie-reviews/data?select=IMDB+Dataset.csv (this dataset is not very heavy, but I have it downloaded on my local PC\n",
    "\n",
    "- Quechua translations, bible, audio files, etc. for automated Quechua translator - https://github.com/mmfuente95/Springboard-ML_Engineering/blob/0c369a63ec0477eb247d6d0365c79fc043a2b008/Springboard%20Coursework/03_05_Quechua_Translator_Data.zip these are some of the files that I have for this project, but I plan to collect more audios/pdfs/etc."
   ]
  },
  {
   "cell_type": "code",
   "execution_count": null,
   "metadata": {},
   "outputs": [],
   "source": []
  }
 ],
 "metadata": {
  "kernelspec": {
   "display_name": "Python 3",
   "language": "python",
   "name": "python3"
  },
  "language_info": {
   "codemirror_mode": {
    "name": "ipython",
    "version": 3
   },
   "file_extension": ".py",
   "mimetype": "text/x-python",
   "name": "python",
   "nbconvert_exporter": "python",
   "pygments_lexer": "ipython3",
   "version": "3.8.3"
  }
 },
 "nbformat": 4,
 "nbformat_minor": 4
}
